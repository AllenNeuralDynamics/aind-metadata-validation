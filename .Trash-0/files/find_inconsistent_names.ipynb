{
 "cells": [
  {
   "cell_type": "code",
   "execution_count": null,
   "metadata": {},
   "outputs": [],
   "source": [
    "DOC_DB_HOST = os.getenv(\"CUSTOM_KEY_3\")\n",
    "    DOC_DB_DATABASE = \"metadata\"\n",
    "    DOC_DB_COLLECTION = \"data_assets\"\n",
    "\n",
    "    doc_db_client = MetadataDbClient(host=DOC_DB_HOST, database=DOC_DB_DATABASE, collection=DOC_DB_COLLECTION,)\n",
    "results = doc_db_client.retrieve_data_asset_records(filter_query=filter_query, projection={\"_name\":1, \"_created\": 1, \"_location\":1, \"subject.date_of_birth\":1, \"subject.species.name\": 1, \"data_description.modality\": 1, \"data_description.project_name\": 1, \"acquisition.session_end_time\": 1}, paginate=False)"
   ]
  }
 ],
 "metadata": {
  "kernelspec": {
   "display_name": "Python 3",
   "language": "python",
   "name": "python3"
  },
  "language_info": {
   "codemirror_mode": {
    "name": "ipython",
    "version": 3
   },
   "file_extension": ".py",
   "mimetype": "text/x-python",
   "name": "python",
   "nbconvert_exporter": "python",
   "pygments_lexer": "ipython3",
   "version": "3.8.5"
  }
 },
 "nbformat": 4,
 "nbformat_minor": 4
}
