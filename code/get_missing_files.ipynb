{
 "cells": [
  {
   "cell_type": "code",
   "execution_count": 1,
   "id": "2e24e380",
   "metadata": {},
   "outputs": [],
   "source": [
    "import utils\n",
    "import importlib\n",
    "import json"
   ]
  },
  {
   "cell_type": "code",
   "execution_count": 2,
   "id": "2755dd2a",
   "metadata": {},
   "outputs": [],
   "source": [
    "docdb_client = utils.create_doc_db_client()\n",
    "raw_ecephys_files = utils.get_doc_db_records(docdb_client, filter_query={'name': { '$regex': 'ecephys', '$options': 'i' }, 'data_description.data_level': { '$regex': 'raw', '$options': 'i' }})\n",
    "derived_ecephys_files = utils.get_doc_db_records(docdb_client, filter_query={'name': { '$regex': 'ecephys', '$options': 'i' }, 'data_description.data_level': { '$regex': 'derived', '$options': 'i' }})\n"
   ]
  },
  {
   "cell_type": "code",
   "execution_count": 3,
   "id": "fc28d3a1",
   "metadata": {},
   "outputs": [],
   "source": [
    "importlib.reload(utils)\n",
    "\n",
    "presence_df1 = utils.get_missing_files(raw_ecephys_files)\n",
    "presence_df1.to_csv('../results/file_presence_raw_ecephys.csv')\n",
    "presence_df2 = utils.get_missing_files(derived_ecephys_files)\n",
    "presence_df2.to_csv('../results/file_presence_derived_ecephys.csv')"
   ]
  },
  {
   "cell_type": "code",
   "execution_count": 4,
   "id": "4567d048",
   "metadata": {},
   "outputs": [
    {
     "name": "stdout",
     "output_type": "stream",
     "text": [
      "{'data_description': 1170, 'acquisition': 0, 'procedures': 1043, 'subject': 1163, 'instrument': 0, 'processing': 1045, 'rig': 674, 'session': 673, 'metadata': 0, 'total_files': 1170}\n",
      "{'data_description': 1202, 'acquisition': 0, 'procedures': 956, 'subject': 975, 'instrument': 0, 'processing': 976, 'rig': 192, 'session': 197, 'metadata': 0, 'total_files': 1202}\n"
     ]
    }
   ],
   "source": [
    "for df in [presence_df1, presence_df2]:\n",
    "    totals = utils.get_df_totals(df)\n",
    "    print(totals)\n",
    "with open(\"../results/ecephys_totals.json\", \"w\") as f:\n",
    "    f.write(json.dumps(totals))"
   ]
  },
  {
   "cell_type": "code",
   "execution_count": 5,
   "id": "1bdff67b",
   "metadata": {},
   "outputs": [
    {
     "name": "stdout",
     "output_type": "stream",
     "text": [
      "{'data_description': 1202, 'acquisition': 0, 'procedures': 956, 'subject': 975, 'instrument': 0, 'processing': 976, 'rig': 192, 'session': 197, 'metadata': 0, 'total_files': 1202}\n"
     ]
    }
   ],
   "source": [
    "print(totals)"
   ]
  },
  {
   "cell_type": "code",
   "execution_count": null,
   "id": "c82f2faa",
   "metadata": {},
   "outputs": [],
   "source": []
  }
 ],
 "metadata": {
  "kernelspec": {
   "display_name": "Python 3",
   "language": "python",
   "name": "python3"
  },
  "language_info": {
   "codemirror_mode": {
    "name": "ipython",
    "version": 3
   },
   "file_extension": ".py",
   "mimetype": "text/x-python",
   "name": "python",
   "nbconvert_exporter": "python",
   "pygments_lexer": "ipython3",
   "version": "3.8.5"
  }
 },
 "nbformat": 4,
 "nbformat_minor": 5
}
