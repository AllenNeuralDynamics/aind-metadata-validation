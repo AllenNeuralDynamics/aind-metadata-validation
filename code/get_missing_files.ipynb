{
 "cells": [
  {
   "cell_type": "code",
   "execution_count": 1,
   "id": "c07d0ec9",
   "metadata": {},
   "outputs": [],
   "source": [
    "from utils import get_missing_files, generate_doc_store_client"
   ]
  },
  {
   "cell_type": "markdown",
   "id": "718d780c",
   "metadata": {},
   "source": [
    "# TODOs\n",
    "- general cleanup\n",
    "  - remove `run_capsule.py` - I think this is not being used\n",
    "  - remove stray print statements\n",
    "  - remove duplicate definitions of `get_missing_files()`\n",
    "  - move doc_store_client generation to a `get_doc_store_client()` function in `utils.py`\n",
    "  - move the primary copy of `get_missing_files()` to a utilities file, e.g. `utils.py`\n",
    "  - have `get_missing_files()` take the doc store client as an argument\n",
    "  - import those functions in this notebook (`from utils import get_missing_files, get_doc_store_client`)\n",
    "- dataframe cleanup\n",
    "  - make `id` the index column of the dataframe\n",
    "  - save `file_presence.csv` to `../results/file_presence.csv` so that results can be saved as data assets \n",
    "- make `get_missing_files.ipynb` the run script for the capsule\n",
    "- delete this cell! :)"
   ]
  },
  {
   "cell_type": "code",
   "execution_count": 2,
   "id": "2b7421ca",
   "metadata": {},
   "outputs": [
    {
     "ename": "UnboundLocalError",
     "evalue": "local variable 'file_presence' referenced before assignment",
     "output_type": "error",
     "traceback": [
      "\u001b[0;31m---------------------------------------------------------------------------\u001b[0m",
      "\u001b[0;31mUnboundLocalError\u001b[0m                         Traceback (most recent call last)",
      "\u001b[0;32m<ipython-input-2-48194e2109f9>\u001b[0m in \u001b[0;36m<module>\u001b[0;34m\u001b[0m\n\u001b[0;32m----> 1\u001b[0;31m \u001b[0mpresence_df\u001b[0m \u001b[0;34m=\u001b[0m \u001b[0mget_missing_files\u001b[0m\u001b[0;34m(\u001b[0m\u001b[0mgenerate_doc_store_client\u001b[0m\u001b[0;34m(\u001b[0m\u001b[0;34m)\u001b[0m\u001b[0;34m)\u001b[0m\u001b[0;34m\u001b[0m\u001b[0;34m\u001b[0m\u001b[0m\n\u001b[0m\u001b[1;32m      2\u001b[0m \u001b[0mpresence_df\u001b[0m\u001b[0;34m.\u001b[0m\u001b[0mto_csv\u001b[0m\u001b[0;34m(\u001b[0m\u001b[0;34m'../results/file_presence.csv'\u001b[0m\u001b[0;34m)\u001b[0m\u001b[0;34m\u001b[0m\u001b[0;34m\u001b[0m\u001b[0m\n",
      "\u001b[0;32m~/capsule/code/utils.py\u001b[0m in \u001b[0;36mget_missing_files\u001b[0;34m(doc_store_client)\u001b[0m\n\u001b[1;32m     44\u001b[0m             ]\n\u001b[1;32m     45\u001b[0m         )\n\u001b[0;32m---> 46\u001b[0;31m     \u001b[0mfile_presence\u001b[0m \u001b[0;34m=\u001b[0m \u001b[0mfile_presence\u001b[0m\u001b[0;34m.\u001b[0m\u001b[0mset_index\u001b[0m\u001b[0;34m(\u001b[0m\u001b[0;34m'id'\u001b[0m\u001b[0;34m)\u001b[0m\u001b[0;34m\u001b[0m\u001b[0;34m\u001b[0m\u001b[0m\n\u001b[0m\u001b[1;32m     47\u001b[0m     \u001b[0mfile_presence\u001b[0m \u001b[0;34m=\u001b[0m \u001b[0mpd\u001b[0m\u001b[0;34m.\u001b[0m\u001b[0mDataFrame\u001b[0m\u001b[0;34m(\u001b[0m\u001b[0mpresence\u001b[0m\u001b[0;34m,\u001b[0m \u001b[0mcolumns\u001b[0m\u001b[0;34m=\u001b[0m\u001b[0;34m[\u001b[0m\u001b[0;34m*\u001b[0m\u001b[0mheaders\u001b[0m\u001b[0;34m,\u001b[0m \u001b[0;34m'subject_id'\u001b[0m\u001b[0;34m,\u001b[0m \u001b[0;34m\"derived\"\u001b[0m\u001b[0;34m,\u001b[0m \u001b[0;34m*\u001b[0m\u001b[0mexpected_files\u001b[0m\u001b[0;34m]\u001b[0m\u001b[0;34m)\u001b[0m\u001b[0;34m\u001b[0m\u001b[0;34m\u001b[0m\u001b[0m\n\u001b[1;32m     48\u001b[0m     \u001b[0;32mreturn\u001b[0m \u001b[0mfile_presence\u001b[0m\u001b[0;34m\u001b[0m\u001b[0;34m\u001b[0m\u001b[0m\n",
      "\u001b[0;31mUnboundLocalError\u001b[0m: local variable 'file_presence' referenced before assignment"
     ]
    }
   ],
   "source": [
    "presence_df = get_missing_files(generate_doc_store_client())\n",
    "presence_df.to_csv('../results/file_presence.csv')"
   ]
  },
  {
   "cell_type": "code",
   "execution_count": null,
   "id": "1aa8d3c6",
   "metadata": {},
   "outputs": [],
   "source": []
  }
 ],
 "metadata": {
  "kernelspec": {
   "display_name": "Python 3",
   "language": "python",
   "name": "python3"
  },
  "language_info": {
   "codemirror_mode": {
    "name": "ipython",
    "version": 3
   },
   "file_extension": ".py",
   "mimetype": "text/x-python",
   "name": "python",
   "nbconvert_exporter": "python",
   "pygments_lexer": "ipython3",
   "version": "3.8.5"
  }
 },
 "nbformat": 4,
 "nbformat_minor": 5
}
