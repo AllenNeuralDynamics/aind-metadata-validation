{
 "cells": [
  {
   "cell_type": "code",
   "execution_count": 1,
   "id": "c07d0ec9",
   "metadata": {},
   "outputs": [
    {
     "ename": "ModuleNotFoundError",
     "evalue": "No module named 'aind_data_access_api'",
     "output_type": "error",
     "traceback": [
      "\u001b[0;31m---------------------------------------------------------------------------\u001b[0m",
      "\u001b[0;31mModuleNotFoundError\u001b[0m                       Traceback (most recent call last)",
      "\u001b[0;32m<ipython-input-1-01686c6b1fc7>\u001b[0m in \u001b[0;36m<module>\u001b[0;34m\u001b[0m\n\u001b[1;32m      2\u001b[0m \u001b[0;32mfrom\u001b[0m \u001b[0maind_codeocean_api\u001b[0m\u001b[0;34m.\u001b[0m\u001b[0mcodeocean\u001b[0m \u001b[0;32mimport\u001b[0m \u001b[0mCodeOceanClient\u001b[0m\u001b[0;34m\u001b[0m\u001b[0;34m\u001b[0m\u001b[0m\n\u001b[1;32m      3\u001b[0m \u001b[0;32mfrom\u001b[0m \u001b[0maind_codeocean_api\u001b[0m\u001b[0;34m.\u001b[0m\u001b[0mcredentials\u001b[0m \u001b[0;32mimport\u001b[0m \u001b[0mCodeOceanCredentials\u001b[0m\u001b[0;34m\u001b[0m\u001b[0;34m\u001b[0m\u001b[0m\n\u001b[0;32m----> 4\u001b[0;31m \u001b[0;32mfrom\u001b[0m \u001b[0maind_data_access_api\u001b[0m\u001b[0;34m.\u001b[0m\u001b[0mdocument_store\u001b[0m \u001b[0;32mimport\u001b[0m \u001b[0mDocumentStoreCredentials\u001b[0m\u001b[0;34m,\u001b[0m \u001b[0mClient\u001b[0m \u001b[0;32mas\u001b[0m \u001b[0mDsClient\u001b[0m\u001b[0;34m\u001b[0m\u001b[0;34m\u001b[0m\u001b[0m\n\u001b[0m\u001b[1;32m      5\u001b[0m \u001b[0;34m\u001b[0m\u001b[0m\n\u001b[1;32m      6\u001b[0m \u001b[0;32mimport\u001b[0m \u001b[0mjson\u001b[0m\u001b[0;34m\u001b[0m\u001b[0;34m\u001b[0m\u001b[0m\n",
      "\u001b[0;31mModuleNotFoundError\u001b[0m: No module named 'aind_data_access_api'"
     ]
    }
   ],
   "source": [
    "\"\"\" top level run script \"\"\"\n",
    "from aind_codeocean_api.codeocean import CodeOceanClient\n",
    "from aind_codeocean_api.credentials import CodeOceanCredentials\n",
    "from aind_data_access_api.document_store import DocumentStoreCredentials, Client as DsClient\n",
    "\n",
    "import json\n",
    "import os\n",
    "import sys"
   ]
  },
  {
   "cell_type": "code",
   "execution_count": null,
   "id": "2b7421ca",
   "metadata": {},
   "outputs": [],
   "source": [
    "token = os.getenv('CUSTOM_KEY')\n",
    "domain = os.getenv('CUSTOM_KEY_2')\n",
    "\n",
    "print(token, domain)\n",
    "\n",
    "co_client = CodeOceanClient(domain=domain, token=token)"
   ]
  },
  {
   "cell_type": "code",
   "execution_count": null,
   "id": "cec47eee",
   "metadata": {},
   "outputs": [],
   "source": [
    "query = {\n",
    "    \"$or\": [\n",
    "        { \"tag:raw\" },\n",
    "        { \"tag:processed\" },\n",
    "    ],\n",
    "}"
   ]
  },
  {
   "cell_type": "code",
   "execution_count": null,
   "id": "3573a88b",
   "metadata": {},
   "outputs": [],
   "source": [
    "to_fix = list(doc_store_client.retrieve_data_asset_records(query=query)\n",
    "\n",
    "               \n",
    "print(files.json())\n"
   ]
  },
  {
   "cell_type": "code",
   "execution_count": null,
   "id": "a1f7c448",
   "metadata": {},
   "outputs": [],
   "source": [
    "def get_missing_files(self):\n",
    "    headers = [\"id\", \"name\", \"created\", \"location\"]\n",
    "    expected_files = [\"data_description\", \"acquisition\", \"procedures\", \"subject\", \"instrument\", \"processing\"]\n",
    "    presence = []\n",
    "    for record in files:\n",
    "        subj = record.data_description['subject_id']\n",
    "        present_files = record.dict().keys()\n",
    "        present_files = set(present_files).intersection(expected_files)\n",
    "        presence.append(\n",
    "            [\n",
    "                *[record.dict()[header] for header in headers],\n",
    "                subj,\n",
    "                1 if 'stitched' in record.dict()[\"name\"] else 0,\n",
    "                *[1 if value in present_files else 0 for value in expected_files]\n",
    "            ]\n",
    "        )\n",
    "    file_presence = pd.DataFrame(presence, columns=[*headers, 'subject_id', \"derived\", *expected_files])\n",
    "    return file_presence"
   ]
  },
  {
   "cell_type": "code",
   "execution_count": null,
   "id": "1aa8d3c6",
   "metadata": {},
   "outputs": [],
   "source": []
  }
 ],
 "metadata": {
  "kernelspec": {
   "display_name": "Python 3",
   "language": "python",
   "name": "python3"
  },
  "language_info": {
   "codemirror_mode": {
    "name": "ipython",
    "version": 3
   },
   "file_extension": ".py",
   "mimetype": "text/x-python",
   "name": "python",
   "nbconvert_exporter": "python",
   "pygments_lexer": "ipython3",
   "version": "3.8.5"
  }
 },
 "nbformat": 4,
 "nbformat_minor": 5
}
