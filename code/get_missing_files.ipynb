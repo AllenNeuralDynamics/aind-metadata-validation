{
 "cells": [
  {
   "cell_type": "code",
   "execution_count": 1,
   "id": "2e24e380",
   "metadata": {},
   "outputs": [],
   "source": [
    "from utils import get_missing_files, generate_doc_store_client"
   ]
  },
  {
   "cell_type": "code",
   "execution_count": 2,
   "id": "fc28d3a1",
   "metadata": {},
   "outputs": [],
   "source": [
    "presence_df = get_missing_files(generate_doc_store_client())\n",
    "presence_df.to_csv('../results/file_presence.csv')"
   ]
  }
 ],
 "metadata": {
  "kernelspec": {
   "display_name": "Python 3",
   "language": "python",
   "name": "python3"
  },
  "language_info": {
   "codemirror_mode": {
    "name": "ipython",
    "version": 3
   },
   "file_extension": ".py",
   "mimetype": "text/x-python",
   "name": "python",
   "nbconvert_exporter": "python",
   "pygments_lexer": "ipython3",
   "version": "3.8.5"
  }
 },
 "nbformat": 4,
 "nbformat_minor": 5
}
