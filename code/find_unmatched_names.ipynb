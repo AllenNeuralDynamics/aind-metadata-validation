{
 "cells": [
  {
   "cell_type": "code",
   "execution_count": 1,
   "metadata": {},
   "outputs": [],
   "source": [
    "from utils import create_co_client, create_doc_db_client, find_unmatched_names"
   ]
  },
  {
   "cell_type": "code",
   "execution_count": 2,
   "metadata": {},
   "outputs": [
    {
     "name": "stdout",
     "output_type": "stream",
     "text": [
      "[{'created': 1722358417, 'custom_metadata': {'data level': 'raw', 'experiment type': 'behavior', 'modality': 'Extracellular electrophysiology', 'subject id': '717121'}, 'description': '', 'files': 4, 'id': '67fc087e-5660-44e1-b83a-befb25012c28', 'last_used': 0, 'mount': 'behavior_717121_2024-06-15_10-00-58_curated_2024-07-30_16-53-06', 'name': 'behavior_717121_2024-06-15_10-00-58_curated_2024-07-30_16-53-06', 'size': 2430, 'source_bucket': {'bucket': 'aind-private-data-prod-o5171v', 'external': True, 'origin': 'aws', 'prefix': 'behavior_717121_2024-06-15_10-00-58_curated_2024-07-30_16-53-06'}, 'state': 'ready', 'tags': ['behavior', 'raw', 'curated', 'ecephys', '717121', 'derived'], 'type': 'dataset'}, {'created': 1722354864, 'custom_metadata': {'data level': 'derived', 'experiment type': 'multiplane-ophys', 'subject id': '737968'}, 'description': '', 'files': 18, 'id': '7d14e476-0124-473b-9555-6b2dbb2b930e', 'last_used': 1722355287, 'mount': 'multiplane-ophys_737968_2024-07-29_12-16-12_processed_2024-07-30_15-54-24', 'name': 'multiplane-ophys_737968_2024-07-29_12-16-12_processed_2024-07-30_15-54-24', 'provenance': {'capsule': '56bf687b-dbcd-4b93-a650-21b8584036ff', 'commit': 'fd6d46cac6d0ef2328a48bf959b5b276686d30f6', 'data_assets': ['ea8e3e24-67dd-40d6-a80f-8691ebce994a'], 'docker_image': '', 'run_script': 'code/run'}, 'size': 55324063732, 'state': 'ready', 'tags': ['multiplane-ophys', '737968', 'derived'], 'type': 'result'}, {'created': 1722352406, 'custom_metadata': {'data level': 'derived', 'experiment type': 'multiplane-ophys', 'subject id': '736963'}, 'description': '', 'files': 1, 'id': '847dc985-d1df-4056-a110-e70a23cc206b', 'last_used': 1722352408, 'mount': 'multiplane-ophys_736963_2024-07-29_09-00-58_processed_2024-07-30_15-13-26', 'name': 'multiplane-ophys_736963_2024-07-29_09-00-58_processed_2024-07-30_15-13-26', 'provenance': {'capsule': '56bf687b-dbcd-4b93-a650-21b8584036ff', 'commit': 'fd6d46cac6d0ef2328a48bf959b5b276686d30f6', 'data_assets': ['3af8843f-4e1a-445e-823e-7edf333f9854'], 'docker_image': '', 'run_script': 'code/run'}, 'size': 3662, 'state': 'ready', 'tags': ['multiplane-ophys', 'derived', '736963'], 'type': 'result'}]\n"
     ]
    },
    {
     "ename": "AttributeError",
     "evalue": "'NoneType' object has no attribute 'get'",
     "output_type": "error",
     "traceback": [
      "\u001b[0;31m---------------------------------------------------------------------------\u001b[0m",
      "\u001b[0;31mAttributeError\u001b[0m                            Traceback (most recent call last)",
      "\u001b[0;32m<ipython-input-2-8e4241357025>\u001b[0m in \u001b[0;36m<module>\u001b[0;34m\u001b[0m\n\u001b[1;32m      1\u001b[0m \u001b[0mco_client\u001b[0m \u001b[0;34m=\u001b[0m \u001b[0mcreate_co_client\u001b[0m\u001b[0;34m(\u001b[0m\u001b[0;34m)\u001b[0m\u001b[0;34m\u001b[0m\u001b[0;34m\u001b[0m\u001b[0m\n\u001b[0;32m----> 2\u001b[0;31m \u001b[0mnames\u001b[0m \u001b[0;34m=\u001b[0m \u001b[0mfind_unmatched_names\u001b[0m\u001b[0;34m(\u001b[0m\u001b[0mco_client\u001b[0m\u001b[0;34m)\u001b[0m\u001b[0;34m\u001b[0m\u001b[0;34m\u001b[0m\u001b[0m\n\u001b[0m",
      "\u001b[0;32m~/capsule/code/utils.py\u001b[0m in \u001b[0;36mfind_unmatched_names\u001b[0;34m(co_client)\u001b[0m\n\u001b[1;32m     25\u001b[0m     \u001b[0mprint\u001b[0m\u001b[0;34m(\u001b[0m\u001b[0mresults\u001b[0m\u001b[0;34m[\u001b[0m\u001b[0;34m:\u001b[0m\u001b[0;36m3\u001b[0m\u001b[0;34m]\u001b[0m\u001b[0;34m)\u001b[0m\u001b[0;34m\u001b[0m\u001b[0;34m\u001b[0m\u001b[0m\n\u001b[1;32m     26\u001b[0m \u001b[0;34m\u001b[0m\u001b[0m\n\u001b[0;32m---> 27\u001b[0;31m     problem_files = {\n\u001b[0m\u001b[1;32m     28\u001b[0m         \u001b[0mr\u001b[0m\u001b[0;34m.\u001b[0m\u001b[0mget\u001b[0m\u001b[0;34m(\u001b[0m\u001b[0;34m\"id\"\u001b[0m\u001b[0;34m)\u001b[0m\u001b[0;34m:\u001b[0m\u001b[0;34m\u001b[0m\u001b[0;34m\u001b[0m\u001b[0m\n\u001b[1;32m     29\u001b[0m         {\n",
      "\u001b[0;32m~/capsule/code/utils.py\u001b[0m in \u001b[0;36m<dictcomp>\u001b[0;34m(.0)\u001b[0m\n\u001b[1;32m     33\u001b[0m \u001b[0;34m\u001b[0m\u001b[0m\n\u001b[1;32m     34\u001b[0m         }\n\u001b[0;32m---> 35\u001b[0;31m         \u001b[0;32mfor\u001b[0m \u001b[0mr\u001b[0m \u001b[0;32min\u001b[0m \u001b[0mresults\u001b[0m \u001b[0;32mif\u001b[0m \u001b[0mr\u001b[0m\u001b[0;34m.\u001b[0m\u001b[0mget\u001b[0m\u001b[0;34m(\u001b[0m\u001b[0;34m\"name\"\u001b[0m\u001b[0;34m)\u001b[0m \u001b[0;34m!=\u001b[0m \u001b[0mr\u001b[0m\u001b[0;34m.\u001b[0m\u001b[0mget\u001b[0m\u001b[0;34m(\u001b[0m\u001b[0;34m\"data_description\"\u001b[0m\u001b[0;34m)\u001b[0m\u001b[0;34m.\u001b[0m\u001b[0mget\u001b[0m\u001b[0;34m(\u001b[0m\u001b[0;34m\"name\"\u001b[0m\u001b[0;34m)\u001b[0m\u001b[0;34m\u001b[0m\u001b[0;34m\u001b[0m\u001b[0m\n\u001b[0m\u001b[1;32m     36\u001b[0m     }\n\u001b[1;32m     37\u001b[0m \u001b[0;34m\u001b[0m\u001b[0m\n",
      "\u001b[0;31mAttributeError\u001b[0m: 'NoneType' object has no attribute 'get'"
     ]
    }
   ],
   "source": [
    "co_client = create_co_client()\n",
    "names = find_unmatched_names(co_client)"
   ]
  }
 ],
 "metadata": {
  "kernelspec": {
   "display_name": "Python 3",
   "language": "python",
   "name": "python3"
  },
  "language_info": {
   "codemirror_mode": {
    "name": "ipython",
    "version": 3
   },
   "file_extension": ".py",
   "mimetype": "text/x-python",
   "name": "python",
   "nbconvert_exporter": "python",
   "pygments_lexer": "ipython3",
   "version": "3.8.5"
  }
 },
 "nbformat": 4,
 "nbformat_minor": 4
}
