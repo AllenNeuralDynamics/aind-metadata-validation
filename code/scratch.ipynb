{
 "cells": [
  {
   "cell_type": "code",
   "execution_count": 1,
   "id": "4126ffa2",
   "metadata": {},
   "outputs": [],
   "source": [
    "from utils import create_co_client, get_co_files, get_doc_db_records\n",
    "import logging\n",
    "from datetime import datetime\n",
    "import boto3\n",
    "from botocore import UNSIGNED\n",
    "from botocore.config import Config\n",
    "\n",
    "from aind_data_schema.core.data_description import DataDescription\n"
   ]
  },
  {
   "cell_type": "code",
   "execution_count": 2,
   "id": "c8aa776b",
   "metadata": {},
   "outputs": [],
   "source": [
    "log_file_name = \"/results/log_\" + datetime.now().strftime(\"%Y%m%d_%H%M%S\") + \".log\"\n",
    "error_file_name = \"/results/error_log_\" + datetime.now().strftime(\"%Y%m%d_%H%M%S\") + \".log\"\n",
    "logger = logging.getLogger()\n",
    "logger.setLevel(logging.DEBUG)\n",
    "# create file handler which logs even debug messages\n",
    "fh = logging.FileHandler(log_file_name)\n",
    "fh.setLevel(logging.DEBUG)\n",
    "\n",
    "# create console handler, can set the level to info or warning if desired\n",
    "# You can remove the console handler if you don't want to see these messages in the\n",
    "# notebook.\n",
    "ch = logging.StreamHandler()\n",
    "ch.setLevel(logging.DEBUG)\n",
    "# create formatter and add it to the handlers\n",
    "formatter = logging.Formatter('%(asctime)s - %(name)s - %(levelname)s - %(message)s')\n",
    "ch.setFormatter(formatter)\n",
    "fh.setFormatter(formatter)\n",
    "# add the handlers to logger\n",
    "logger.addHandler(ch)\n",
    "logger.addHandler(fh)"
   ]
  },
  {
   "cell_type": "code",
   "execution_count": 10,
   "id": "066684bf",
   "metadata": {},
   "outputs": [
    {
     "name": "stderr",
     "output_type": "stream",
     "text": [
      "2024-03-14 21:20:20,028 - urllib3.connectionpool - DEBUG - Starting new HTTPS connection (1): api.allenneuraldynamics.org:443\n",
      "2024-03-14 21:20:21,400 - urllib3.connectionpool - DEBUG - https://api.allenneuraldynamics.org:443 \"GET /v1/metadata/data_assets?limit=0&skip=0&filter=%7B%22procedures.subject_id%22%3A+%7B%22%24in%22%3A+%5B%22652742%22%2C+%22664644%22%5D%7D%7D HTTP/1.1\" 200 185982\n"
     ]
    },
    {
     "name": "stdout",
     "output_type": "stream",
     "text": [
      "dict_keys(['0b84df24-5906-4af2-b39a-6550f8eaa827', '29f9f0ca-bb5a-42ca-8471-8b0f1efba5bd', 'd1471a76-6076-4c3b-8f35-ae8ace921338', 'e0ed1de3-cee1-4fc9-8190-0e1632bc66e2', '92914952-9c90-4985-ade7-2a5ce5dd3e44', '6eef34f9-eec4-42a8-9b60-a59754e9d0b1', 'aafcb7e5-b02a-457c-99d4-dbd2b270214c', '3b5a3286-ebc6-43b5-a7a3-4df8df3b1cf1', '3f39c4f6-eae0-456e-a72b-3c08186af4ef', '18dd264f-65a1-4bc6-a589-6a3edfb11043'])\n",
      "['FIP_652742_2023-02-20_16-35-26', 'FIP_652742_2023-03-03_16-49-56', 'FIP_652742_2023-03-02_17-10-22', 'FIP_652742_2023-03-01_15-53-08', 'FIP_652742_2023-02-28_16-21-25', 'FIP_652742_2023-02-27_15-34-17', 'FIP_652742_2023-02-24_15-27-08', 'FIP_652742_2023-02-23_15-19-15', 'FIP_652742_2023-02-22_18-30-39', 'FIP_652742_2023-02-21_17-37-26']\n"
     ]
    }
   ],
   "source": [
    "# docdb_query = {\"procedures.subject_procedures.procedures.injection_materials\": { \"$exists\" : \"true\", \"$nin\" : [\"null\"] } }\n",
    "\n",
    "docdb_query = {\"procedures.subject_id\": {\"$in\" : [\"652742\", \"664644\"] } }\n",
    "\n",
    "docdb_records, names = get_doc_db_records(filter_query=docdb_query)\n",
    "\n",
    "print(docdb_records.keys())\n",
    "print(names)"
   ]
  },
  {
   "cell_type": "code",
   "execution_count": 8,
   "id": "8dc50bdf",
   "metadata": {},
   "outputs": [
    {
     "name": "stdout",
     "output_type": "stream",
     "text": [
      "{'describedBy': 'https://raw.githubusercontent.com/AllenNeuralDynamics/aind-data-schema/main/src/aind_data_schema/core/procedures.py', 'schema_version': '0.11.5', 'subject_id': '667857', 'subject_procedures': [{'procedure_type': 'Surgery', 'start_date': '2023-03-07', 'experimenter_full_name': '30333', 'iacuc_protocol': '2109', 'animal_weight_prior': None, 'animal_weight_post': None, 'weight_unit': 'gram', 'anaesthesia': None, 'workstation_id': None, 'procedures': [{'injection_materials': [], 'recovery_time': None, 'recovery_time_unit': 'minute', 'injection_duration': None, 'injection_duration_unit': 'minute', 'instrument_id': None, 'procedure_type': 'Retro-orbital injection', 'injection_volume': None, 'injection_volume_unit': 'microliter', 'injection_eye': None}], 'notes': None}, {'procedure_type': 'Surgery', 'start_date': '2023-04-11', 'experimenter_full_name': '30333', 'iacuc_protocol': '2109', 'animal_weight_prior': None, 'animal_weight_post': None, 'weight_unit': 'gram', 'anaesthesia': None, 'workstation_id': None, 'procedures': [{'procedure_type': 'Perfusion', 'output_specimen_ids': ['667857']}], 'notes': None}], 'specimen_procedures': [], 'notes': None}\n"
     ]
    }
   ],
   "source": [
    "# docdb_records['3809b69d-caf5-4982-8e21-31228c62933f'].write_standard_file(output_directory=Path(\"../../environment/U19_surgeries_combined_missing\"), prefix=Path(key))\n",
    "print(docdb_records['3809b69d-caf5-4982-8e21-31228c62933f'].procedures)"
   ]
  },
  {
   "cell_type": "code",
   "execution_count": null,
   "id": "cb0f9345",
   "metadata": {},
   "outputs": [],
   "source": []
  }
 ],
 "metadata": {
  "kernelspec": {
   "display_name": "Python 3",
   "language": "python",
   "name": "python3"
  },
  "language_info": {
   "codemirror_mode": {
    "name": "ipython",
    "version": 3
   },
   "file_extension": ".py",
   "mimetype": "text/x-python",
   "name": "python",
   "nbconvert_exporter": "python",
   "pygments_lexer": "ipython3",
   "version": "3.8.5"
  }
 },
 "nbformat": 4,
 "nbformat_minor": 5
}
