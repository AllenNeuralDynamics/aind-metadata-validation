{
 "cells": [
  {
   "cell_type": "code",
   "execution_count": 1,
   "metadata": {},
   "outputs": [],
   "source": [
    "import pandas as pd "
   ]
  },
  {
   "cell_type": "code",
   "execution_count": 8,
   "metadata": {},
   "outputs": [
    {
     "data": {
      "text/plain": [
       "3859"
      ]
     },
     "execution_count": 8,
     "metadata": {},
     "output_type": "execute_result"
    }
   ],
   "source": [
    "file_presence_df = pd.read_csv(\"../results/file_presence.csv\")\n",
    "len(file_presence_df)"
   ]
  },
  {
   "cell_type": "code",
   "execution_count": 10,
   "metadata": {},
   "outputs": [
    {
     "data": {
      "text/html": [
       "<div>\n",
       "<style scoped>\n",
       "    .dataframe tbody tr th:only-of-type {\n",
       "        vertical-align: middle;\n",
       "    }\n",
       "\n",
       "    .dataframe tbody tr th {\n",
       "        vertical-align: top;\n",
       "    }\n",
       "\n",
       "    .dataframe thead th {\n",
       "        text-align: right;\n",
       "    }\n",
       "</style>\n",
       "<table border=\"1\" class=\"dataframe\">\n",
       "  <thead>\n",
       "    <tr style=\"text-align: right;\">\n",
       "      <th></th>\n",
       "      <th>id</th>\n",
       "      <th>name</th>\n",
       "      <th>created</th>\n",
       "      <th>location</th>\n",
       "      <th>subject_id</th>\n",
       "      <th>derived</th>\n",
       "      <th>data_description</th>\n",
       "      <th>acquisition</th>\n",
       "      <th>procedures</th>\n",
       "      <th>subject</th>\n",
       "      <th>instrument</th>\n",
       "      <th>processing</th>\n",
       "    </tr>\n",
       "  </thead>\n",
       "  <tbody>\n",
       "    <tr>\n",
       "      <th>3</th>\n",
       "      <td>a3867a50-1498-43b5-9db5-81674884ab5d</td>\n",
       "      <td>SmartSPIM_AK016_2023-02-23_19-21-08</td>\n",
       "      <td>2023-02-28 22:07:23</td>\n",
       "      <td>s3://aind-open-data/SmartSPIM_AK016_2023-02-23...</td>\n",
       "      <td>AK016</td>\n",
       "      <td>0</td>\n",
       "      <td>1</td>\n",
       "      <td>1</td>\n",
       "      <td>0</td>\n",
       "      <td>0</td>\n",
       "      <td>0</td>\n",
       "      <td>0</td>\n",
       "    </tr>\n",
       "    <tr>\n",
       "      <th>5</th>\n",
       "      <td>3b96631a-30f2-4539-a709-93aca98f678f</td>\n",
       "      <td>SmartSPIM_AK005_2023-02-23_02-28-50</td>\n",
       "      <td>2023-02-27 20:00:29</td>\n",
       "      <td>s3://aind-open-data/SmartSPIM_AK005_2023-02-23...</td>\n",
       "      <td>AK005</td>\n",
       "      <td>0</td>\n",
       "      <td>1</td>\n",
       "      <td>1</td>\n",
       "      <td>0</td>\n",
       "      <td>0</td>\n",
       "      <td>0</td>\n",
       "      <td>0</td>\n",
       "    </tr>\n",
       "    <tr>\n",
       "      <th>6</th>\n",
       "      <td>43e0e027-63a8-44d3-9fb1-2a81d8cc18af</td>\n",
       "      <td>SmartSPIM_AK015_2023-02-22_02-02-29</td>\n",
       "      <td>2023-02-27 20:00:26</td>\n",
       "      <td>s3://aind-open-data/SmartSPIM_AK015_2023-02-22...</td>\n",
       "      <td>AK015</td>\n",
       "      <td>0</td>\n",
       "      <td>1</td>\n",
       "      <td>1</td>\n",
       "      <td>0</td>\n",
       "      <td>0</td>\n",
       "      <td>0</td>\n",
       "      <td>0</td>\n",
       "    </tr>\n",
       "    <tr>\n",
       "      <th>10</th>\n",
       "      <td>d174e0a9-e1d9-4711-b24d-03455ceac767</td>\n",
       "      <td>SmartSPIM_AK010_2023-02-22_09-38-06</td>\n",
       "      <td>2023-02-27 19:47:18</td>\n",
       "      <td>s3://aind-open-data/SmartSPIM_AK010_2023-02-22...</td>\n",
       "      <td>AK010</td>\n",
       "      <td>0</td>\n",
       "      <td>1</td>\n",
       "      <td>1</td>\n",
       "      <td>0</td>\n",
       "      <td>0</td>\n",
       "      <td>0</td>\n",
       "      <td>0</td>\n",
       "    </tr>\n",
       "    <tr>\n",
       "      <th>11</th>\n",
       "      <td>26effa6e-c6b3-4bc0-b039-54334990fa6e</td>\n",
       "      <td>SmartSPIM_AK007_2023-02-21_21-31-01</td>\n",
       "      <td>2023-02-27 19:47:07</td>\n",
       "      <td>s3://aind-open-data/SmartSPIM_AK007_2023-02-21...</td>\n",
       "      <td>AK007</td>\n",
       "      <td>0</td>\n",
       "      <td>1</td>\n",
       "      <td>1</td>\n",
       "      <td>0</td>\n",
       "      <td>0</td>\n",
       "      <td>0</td>\n",
       "      <td>0</td>\n",
       "    </tr>\n",
       "  </tbody>\n",
       "</table>\n",
       "</div>"
      ],
      "text/plain": [
       "                                      id                                 name  \\\n",
       "3   a3867a50-1498-43b5-9db5-81674884ab5d  SmartSPIM_AK016_2023-02-23_19-21-08   \n",
       "5   3b96631a-30f2-4539-a709-93aca98f678f  SmartSPIM_AK005_2023-02-23_02-28-50   \n",
       "6   43e0e027-63a8-44d3-9fb1-2a81d8cc18af  SmartSPIM_AK015_2023-02-22_02-02-29   \n",
       "10  d174e0a9-e1d9-4711-b24d-03455ceac767  SmartSPIM_AK010_2023-02-22_09-38-06   \n",
       "11  26effa6e-c6b3-4bc0-b039-54334990fa6e  SmartSPIM_AK007_2023-02-21_21-31-01   \n",
       "\n",
       "                created                                           location  \\\n",
       "3   2023-02-28 22:07:23  s3://aind-open-data/SmartSPIM_AK016_2023-02-23...   \n",
       "5   2023-02-27 20:00:29  s3://aind-open-data/SmartSPIM_AK005_2023-02-23...   \n",
       "6   2023-02-27 20:00:26  s3://aind-open-data/SmartSPIM_AK015_2023-02-22...   \n",
       "10  2023-02-27 19:47:18  s3://aind-open-data/SmartSPIM_AK010_2023-02-22...   \n",
       "11  2023-02-27 19:47:07  s3://aind-open-data/SmartSPIM_AK007_2023-02-21...   \n",
       "\n",
       "   subject_id  derived  data_description  acquisition  procedures  subject  \\\n",
       "3       AK016        0                 1            1           0        0   \n",
       "5       AK005        0                 1            1           0        0   \n",
       "6       AK015        0                 1            1           0        0   \n",
       "10      AK010        0                 1            1           0        0   \n",
       "11      AK007        0                 1            1           0        0   \n",
       "\n",
       "    instrument  processing  \n",
       "3            0           0  \n",
       "5            0           0  \n",
       "6            0           0  \n",
       "10           0           0  \n",
       "11           0           0  "
      ]
     },
     "execution_count": 10,
     "metadata": {},
     "output_type": "execute_result"
    }
   ],
   "source": [
    "missing_instrument = file_presence_df[file_presence_df['instrument'] == 0]\n",
    "missing_instrument.head()\n",
    "# len(missing_instrument)\n"
   ]
  },
  {
   "cell_type": "code",
   "execution_count": 12,
   "metadata": {},
   "outputs": [
    {
     "data": {
      "text/plain": [
       "380"
      ]
     },
     "execution_count": 12,
     "metadata": {},
     "output_type": "execute_result"
    }
   ],
   "source": [
    "smartspim_missing_instrument = missing_instrument[missing_instrument['name'].str.contains('SmartSPIM')]\n",
    "smartspim_missing_instrument.head()\n",
    "len(smartspim_missing_instrument)"
   ]
  },
  {
   "cell_type": "code",
   "execution_count": 13,
   "metadata": {},
   "outputs": [],
   "source": [
    "smartspim_missing_instrument.to_csv('../results/smartspim_missing_instrument_files.csv')"
   ]
  },
  {
   "cell_type": "code",
   "execution_count": null,
   "metadata": {},
   "outputs": [],
   "source": []
  }
 ],
 "metadata": {
  "kernelspec": {
   "display_name": "Python 3",
   "language": "python",
   "name": "python3"
  },
  "language_info": {
   "codemirror_mode": {
    "name": "ipython",
    "version": 3
   },
   "file_extension": ".py",
   "mimetype": "text/x-python",
   "name": "python",
   "nbconvert_exporter": "python",
   "pygments_lexer": "ipython3",
   "version": "3.8.5"
  }
 },
 "nbformat": 4,
 "nbformat_minor": 4
}
