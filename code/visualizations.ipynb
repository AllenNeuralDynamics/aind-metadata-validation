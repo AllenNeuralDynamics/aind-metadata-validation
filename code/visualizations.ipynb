{
 "cells": [
  {
   "cell_type": "code",
   "execution_count": 1,
   "id": "2e24e380",
   "metadata": {},
   "outputs": [],
   "source": [
    "import pandas as pd\n",
    "import seaborn as sns\n",
    "import matplotlib.pyplot as plt"
   ]
  },
  {
   "cell_type": "code",
   "execution_count": 2,
   "id": "fc28d3a1",
   "metadata": {},
   "outputs": [
    {
     "data": {
      "text/html": [
       "<div>\n",
       "<style scoped>\n",
       "    .dataframe tbody tr th:only-of-type {\n",
       "        vertical-align: middle;\n",
       "    }\n",
       "\n",
       "    .dataframe tbody tr th {\n",
       "        vertical-align: top;\n",
       "    }\n",
       "\n",
       "    .dataframe thead th {\n",
       "        text-align: right;\n",
       "    }\n",
       "</style>\n",
       "<table border=\"1\" class=\"dataframe\">\n",
       "  <thead>\n",
       "    <tr style=\"text-align: right;\">\n",
       "      <th></th>\n",
       "      <th>id</th>\n",
       "      <th>name</th>\n",
       "      <th>created</th>\n",
       "      <th>location</th>\n",
       "      <th>subject_id</th>\n",
       "      <th>derived</th>\n",
       "      <th>data_description</th>\n",
       "      <th>acquisition</th>\n",
       "      <th>procedures</th>\n",
       "      <th>subject</th>\n",
       "      <th>instrument</th>\n",
       "      <th>processing</th>\n",
       "      <th>rig</th>\n",
       "      <th>session</th>\n",
       "    </tr>\n",
       "  </thead>\n",
       "  <tbody>\n",
       "    <tr>\n",
       "      <th>0</th>\n",
       "      <td>be1441bf-8011-4f08-8ded-3b0e6ea61572</td>\n",
       "      <td>SmartSPIM_642480_2023-02-20_12-16-27</td>\n",
       "      <td>2023-03-01 04:58:10</td>\n",
       "      <td>s3://aind-open-data/SmartSPIM_642480_2023-02-2...</td>\n",
       "      <td>642480</td>\n",
       "      <td>0</td>\n",
       "      <td>1</td>\n",
       "      <td>1</td>\n",
       "      <td>0</td>\n",
       "      <td>1</td>\n",
       "      <td>1</td>\n",
       "      <td>0</td>\n",
       "      <td>0</td>\n",
       "      <td>0</td>\n",
       "    </tr>\n",
       "    <tr>\n",
       "      <th>1</th>\n",
       "      <td>36212ebd-c2b4-4b5e-a07d-138a732c5e70</td>\n",
       "      <td>SmartSPIM_656566_2023-02-23_14-01-43</td>\n",
       "      <td>2023-03-01 04:37:25</td>\n",
       "      <td>s3://aind-open-data/SmartSPIM_656566_2023-02-2...</td>\n",
       "      <td>656566</td>\n",
       "      <td>0</td>\n",
       "      <td>1</td>\n",
       "      <td>1</td>\n",
       "      <td>0</td>\n",
       "      <td>1</td>\n",
       "      <td>1</td>\n",
       "      <td>0</td>\n",
       "      <td>0</td>\n",
       "      <td>0</td>\n",
       "    </tr>\n",
       "    <tr>\n",
       "      <th>2</th>\n",
       "      <td>d19557c0-12b3-4d62-bca1-4db3ace32c81</td>\n",
       "      <td>SmartSPIM_656562_2023-02-23_10-21-02</td>\n",
       "      <td>2023-03-01 04:25:44</td>\n",
       "      <td>s3://aind-open-data/SmartSPIM_656562_2023-02-2...</td>\n",
       "      <td>656562</td>\n",
       "      <td>0</td>\n",
       "      <td>1</td>\n",
       "      <td>1</td>\n",
       "      <td>0</td>\n",
       "      <td>1</td>\n",
       "      <td>1</td>\n",
       "      <td>0</td>\n",
       "      <td>0</td>\n",
       "      <td>0</td>\n",
       "    </tr>\n",
       "    <tr>\n",
       "      <th>3</th>\n",
       "      <td>a3867a50-1498-43b5-9db5-81674884ab5d</td>\n",
       "      <td>SmartSPIM_AK016_2023-02-23_19-21-08</td>\n",
       "      <td>2023-02-28 22:07:23</td>\n",
       "      <td>s3://aind-open-data/SmartSPIM_AK016_2023-02-23...</td>\n",
       "      <td>AK016</td>\n",
       "      <td>0</td>\n",
       "      <td>1</td>\n",
       "      <td>1</td>\n",
       "      <td>0</td>\n",
       "      <td>0</td>\n",
       "      <td>0</td>\n",
       "      <td>0</td>\n",
       "      <td>0</td>\n",
       "      <td>0</td>\n",
       "    </tr>\n",
       "    <tr>\n",
       "      <th>4</th>\n",
       "      <td>638263e7-9f47-4ae1-b07a-1b0b19aea2dd</td>\n",
       "      <td>SmartSPIM_643634_2023-02-10_12-48-15</td>\n",
       "      <td>2023-02-28 04:39:06</td>\n",
       "      <td>s3://aind-open-data/SmartSPIM_643634_2023-02-1...</td>\n",
       "      <td>643634</td>\n",
       "      <td>0</td>\n",
       "      <td>1</td>\n",
       "      <td>1</td>\n",
       "      <td>0</td>\n",
       "      <td>0</td>\n",
       "      <td>1</td>\n",
       "      <td>0</td>\n",
       "      <td>0</td>\n",
       "      <td>0</td>\n",
       "    </tr>\n",
       "  </tbody>\n",
       "</table>\n",
       "</div>"
      ],
      "text/plain": [
       "                                     id                                  name  \\\n",
       "0  be1441bf-8011-4f08-8ded-3b0e6ea61572  SmartSPIM_642480_2023-02-20_12-16-27   \n",
       "1  36212ebd-c2b4-4b5e-a07d-138a732c5e70  SmartSPIM_656566_2023-02-23_14-01-43   \n",
       "2  d19557c0-12b3-4d62-bca1-4db3ace32c81  SmartSPIM_656562_2023-02-23_10-21-02   \n",
       "3  a3867a50-1498-43b5-9db5-81674884ab5d   SmartSPIM_AK016_2023-02-23_19-21-08   \n",
       "4  638263e7-9f47-4ae1-b07a-1b0b19aea2dd  SmartSPIM_643634_2023-02-10_12-48-15   \n",
       "\n",
       "               created                                           location  \\\n",
       "0  2023-03-01 04:58:10  s3://aind-open-data/SmartSPIM_642480_2023-02-2...   \n",
       "1  2023-03-01 04:37:25  s3://aind-open-data/SmartSPIM_656566_2023-02-2...   \n",
       "2  2023-03-01 04:25:44  s3://aind-open-data/SmartSPIM_656562_2023-02-2...   \n",
       "3  2023-02-28 22:07:23  s3://aind-open-data/SmartSPIM_AK016_2023-02-23...   \n",
       "4  2023-02-28 04:39:06  s3://aind-open-data/SmartSPIM_643634_2023-02-1...   \n",
       "\n",
       "  subject_id  derived  data_description  acquisition  procedures  subject  \\\n",
       "0     642480        0                 1            1           0        1   \n",
       "1     656566        0                 1            1           0        1   \n",
       "2     656562        0                 1            1           0        1   \n",
       "3      AK016        0                 1            1           0        0   \n",
       "4     643634        0                 1            1           0        0   \n",
       "\n",
       "   instrument  processing  rig  session  \n",
       "0           1           0    0        0  \n",
       "1           1           0    0        0  \n",
       "2           1           0    0        0  \n",
       "3           0           0    0        0  \n",
       "4           1           0    0        0  "
      ]
     },
     "execution_count": 2,
     "metadata": {},
     "output_type": "execute_result"
    }
   ],
   "source": [
    "presence_df = pd.read_csv(\"../results/file_presence.csv\")\n",
    "presence_df.head()"
   ]
  },
  {
   "cell_type": "code",
   "execution_count": 3,
   "id": "95d30721",
   "metadata": {},
   "outputs": [],
   "source": [
    "all_headings = ['data_description', 'acquisition', 'procedures', 'subject', 'instrument', 'processing', 'rig', 'session']\n",
    "\n",
    "\n",
    "def count_present_files(df, file_headings):\n",
    "\n",
    "    counts = pd.DataFrame(columns=['file', 'present', 'missing'])\n",
    "\n",
    "    total_entries = len(df.index)\n",
    "\n",
    "    for heading in file_headings:\n",
    "        present = df[heading].sum()\n",
    "        missing = total_entries - present\n",
    "        counts.loc[len(counts)] = [heading, present, missing]\n",
    "\n",
    "    return counts\n",
    "\n",
    "counts = count_present_files(presence_df, all_headings)"
   ]
  },
  {
   "cell_type": "code",
   "execution_count": 4,
   "id": "9857d545",
   "metadata": {},
   "outputs": [
    {
     "data": {
      "image/png": "[encoded data removed]",
      "text/plain": [
       "<Figure size 432x288 with 1 Axes>"
      ]
     },
     "metadata": {},
     "output_type": "display_data"
    }
   ],
   "source": [
    "#set seaborn plotting aesthetics\n",
    "%matplotlib inline\n",
    "\n",
    "def stacked_presence_graph(df, plot_name):\n",
    "\n",
    "    sns.set(style='white')\n",
    "\n",
    "    #create stacked bar chart\n",
    "    ax = df.set_index('file').plot(kind='bar', stacked=True, color=['gold', 'pink'])\n",
    "\n",
    "\n",
    "    ax.figure.suptitle(plot_name)\n",
    "\n",
    "    plt.tight_layout()\n",
    "\n",
    "    ax.figure.savefig(f'../results/{plot_name}.pdf')\n",
    "\n",
    "    \n",
    "stacked_presence_graph(counts, 'all_assets')"
   ]
  },
  {
   "cell_type": "code",
   "execution_count": 7,
   "id": "e6570c2f",
   "metadata": {},
   "outputs": [],
   "source": [
    "raw_spim_headings = ['data_description', 'subject', 'procedures', 'instrument', 'acquisition']\n",
    "\n",
    "derived_spim_headings = ['data_description', 'subject', 'procedures', 'instrument', 'acquisition', 'processing']\n",
    "\n",
    "raw_phys_behavior_headings = ['data_description', 'subject', 'procedures', 'rig', 'session']\n",
    "\n",
    "derived_phys_behavior_headings = ['data_description', 'subject', 'procedures', 'rig', 'session', 'processing']"
   ]
  },
  {
   "cell_type": "code",
   "execution_count": 8,
   "id": "44ee869e",
   "metadata": {},
   "outputs": [
    {
     "data": {
      "image/png": "[encoded data removed]",
      "text/plain": [
       "<Figure size 432x288 with 1 Axes>"
      ]
     },
     "metadata": {},
     "output_type": "display_data"
    },
    {
     "data": {
      "image/png": "[encoded data removed]",
      "text/plain": [
       "<Figure size 432x288 with 1 Axes>"
      ]
     },
     "metadata": {},
     "output_type": "display_data"
    }
   ],
   "source": [
    "smartspim = presence_df[presence_df['name'].str.contains('SmartSPIM')]\n",
    "smartspim_raw = smartspim[smartspim['derived'] == 0]\n",
    "smartspim_derived = smartspim[smartspim['derived'] == 1]\n",
    "\n",
    "smartspim_raw_counts = count_present_files(smartspim_raw, raw_spim_headings)\n",
    "smartspim_derived_counts = count_present_files(smartspim_derived, derived_spim_headings)\n",
    "\n",
    "stacked_presence_graph(smartspim_raw_counts, 'Raw_SmartSPIM')\n",
    "stacked_presence_graph(smartspim_derived_counts, 'Derived_SmartSPIM')"
   ]
  },
  {
   "cell_type": "code",
   "execution_count": null,
   "id": "90c8466a",
   "metadata": {},
   "outputs": [],
   "source": []
  }
 ],
 "metadata": {
  "kernelspec": {
   "display_name": "Python 3",
   "language": "python",
   "name": "python3"
  },
  "language_info": {
   "codemirror_mode": {
    "name": "ipython",
    "version": 3
   },
   "file_extension": ".py",
   "mimetype": "text/x-python",
   "name": "python",
   "nbconvert_exporter": "python",
   "pygments_lexer": "ipython3",
   "version": "3.8.5"
  }
 },
 "nbformat": 4,
 "nbformat_minor": 5
}
