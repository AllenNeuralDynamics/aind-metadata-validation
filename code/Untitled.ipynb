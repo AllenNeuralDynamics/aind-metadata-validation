{
 "cells": [
  {
   "cell_type": "code",
   "execution_count": null,
   "id": "c07d0ec9",
   "metadata": {},
   "outputs": [],
   "source": [
    "\"\"\" top level run script \"\"\"\n",
    "from aind_codeocean_api.codeocean import CodeOceanClient\n",
    "from aind_codeocean_api.credentials import CodeOceanCredentials\n",
    "\n",
    "import json\n",
    "import os\n",
    "import sys"
   ]
  },
  {
   "cell_type": "code",
   "execution_count": null,
   "id": "2b7421ca",
   "metadata": {},
   "outputs": [],
   "source": [
    "creds = CodeOceanCredentials().credentials\n",
    "\n",
    "co_client = CodeOceanClient(domain=creds['domain'], token=creds['token'])\n",
    "\n",
    "files = co_client.search_all_data_assets()\n",
    "\n",
    "\n",
    "def get_missing_files(self):\n",
    "    headers = [\"id\", \"name\", \"created\", \"location\"]\n",
    "    expected_files = [\"data_description\", \"acquisition\", \"procedures\", \"subject\", \"instrument\", \"processing\"]\n",
    "    presence = []\n",
    "    for record in to_fix:\n",
    "        subj = record.data_description['subject_id']\n",
    "        present_files = record.dict().keys()\n",
    "        present_files = set(present_files).intersection(expected_files)\n",
    "        presence.append(\n",
    "            [\n",
    "                *[record.dict()[header] for header in headers],\n",
    "                subj,\n",
    "                1 if 'stitched' in record.dict()[\"name\"] else 0,\n",
    "                *[1 if value in present_files else 0 for value in expected_files]\n",
    "            ]\n",
    "        )\n",
    "    file_presence = pd.DataFrame(presence, columns=[*headers, 'subject_id', \"derived\", *expected_files])\n",
    "    return file_presence"
   ]
  }
 ],
 "metadata": {
  "kernelspec": {
   "display_name": "Python 3",
   "language": "python",
   "name": "python3"
  },
  "language_info": {
   "codemirror_mode": {
    "name": "ipython",
    "version": 3
   },
   "file_extension": ".py",
   "mimetype": "text/x-python",
   "name": "python",
   "nbconvert_exporter": "python",
   "pygments_lexer": "ipython3",
   "version": "3.8.5"
  }
 },
 "nbformat": 4,
 "nbformat_minor": 5
}
