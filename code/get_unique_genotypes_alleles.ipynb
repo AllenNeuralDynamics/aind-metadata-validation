{
 "cells": [
  {
   "cell_type": "code",
   "execution_count": 1,
   "id": "2e24e380",
   "metadata": {},
   "outputs": [],
   "source": [
    "from utils import get_unique_genotypes, get_unique_alleles, get_unique_experimenters, generate_doc_store_client\n",
    "import csv\n",
    "import pandas as pd"
   ]
  },
  {
   "cell_type": "code",
   "execution_count": 2,
   "id": "fc28d3a1",
   "metadata": {},
   "outputs": [],
   "source": [
    "genotypes = get_unique_genotypes(generate_doc_store_client())"
   ]
  },
  {
   "cell_type": "code",
   "execution_count": 3,
   "id": "a772e348",
   "metadata": {},
   "outputs": [],
   "source": [
    "alleles = get_unique_alleles(genotypes)"
   ]
  },
  {
   "cell_type": "code",
   "execution_count": 4,
   "id": "3818d07c",
   "metadata": {},
   "outputs": [],
   "source": [
    "with open('../results/genotypes.csv', 'w', newline='') as myfile:\n",
    "    wr = csv.writer(myfile, quoting=csv.QUOTE_ALL, delimiter='\\n')\n",
    "    wr.writerow(genotypes)\n",
    "    \n",
    "with open('../results/alleles.csv', 'w', newline='') as myfile:\n",
    "    wr = csv.writer(myfile, quoting=csv.QUOTE_ALL, delimiter='\\n')\n",
    "    wr.writerow(alleles)"
   ]
  },
  {
   "cell_type": "code",
   "execution_count": 5,
   "id": "78e0e99a",
   "metadata": {
    "scrolled": true
   },
   "outputs": [
    {
     "name": "stdout",
     "output_type": "stream",
     "text": [
      "{'Slc6a3-Cre', 'Ai230(TIT2L-XCaMPG-WPRE-ICL-ChRmine-oScarlet-IRES2-tTA2-WPRE)-hyg', 'Cart-IRES2-Cre-neo', 'Cplx3-P2A-FlpO', 'Ntrk1-IRES-Cre', 'Sst-IRES-Cre', 'Camk2a-tTA', 'Vip-IRES-Cre', 'Tacr1-T2A-Cre', 'Slc17a7-IRES2-FlpO-neo', 'Ai195(TIT2L-GC7s-ICF-IRES-tTA2)-hyg', 'Ai93(TITL-GCaMP6f)', 'Hdc-Cre_IM1', 'Sert-FlpO', 'Ai65(RCFL-tdT)', 'Th-Cre_FI172', 'RCL-H2B-GFP', 'wt', 'Slc6a3-T2A-FlpO', 'Ai75(RCL-nT)', 'Ai210(TITL-GC7f-ICF-IRES-tTA2)-hyg', 'Adora2a-Cre', 'Slco2a1-P2A-Cre', 'Pvalb-T2A-FlpO', 'Ai227(TICF-NLS-EGFP-ICF-tdT-WPRE)-hyg', 'Drd1-T2A-FlpO', 'Ai14(RCL-tdT)', 'Ai32(RCL-ChR2(H134R)_EYFP)', 'Ai229(TIT2L-GC6m-IRES2-ChRmine-HA-ISL-tTA2)-hyg', 'Lamp5-P2A-FlpO', 'Chat-IRES-Cre-neo', 'Dbh-Cre-KI', 'Necab1-IRES-Cre', 'RCL-somBiPoles_mCerulean-WPRE_G10', 'Chat-IRES-Cre', 'Drd2-FlpO', 'Calb2-IRES-Cre', 'Ai229(TIT2L-GC6m-IRES2-ChRmine-HA-WPRE-ISL-tTA2-WPRE)-hyg', 'Slc6a4-Cre_ET33', 'Snap25-IRES2-Cre', 'Slc32a1-IRES-Cre', 'Rorb-IRES2-Cre', 'Gad2-IRES-Cre', 'RCL-somBiPoles_mCerulean-WPRE', 'RCFL-H2B-EGFP', 'Adora2a-FlpO', 'Slc17a6-IRES-Cre', 'Sert-Cre', 'Chodl-P2A-Cre', 'Ai223(TITL-HaloTag-F-ICF-mScarlet-H2B-P2A-C22tTA2)-hyg', 'Vipr2-IRES2-Cre', 'Pvalb-IRES-Cre', 'Drd1a-Cre', 'Ai224(TICL-NLS-EGFP-ICF-NLS-dT)-hyg', 'Cux2-IRES-Cre', 'Ai148(TIT2L-GC6f-ICL-tTA2)', 'Ai167(TIT2L-ChrimsonR-tdT-ICL-tTA2)', 'RCL-Sun1sfGFP-neo', 'Slc17a7-IRES2-Cre', 'Ntsr1-Cre_GN220', 'tetO-GCaMP6s', 'Sst-IRES-FlpO', 'Ai193(TICL-EGFP-ICF-tdT)-hyg', 'Tcerg1L-CreER', 'Emx1-IRES-Cre', 'Calb2-CreERT2', 'Dbh-Cre_KH212', 'Rbp4-Cre_KL100', 'Ai166(TIT2L-MORF-ICL-tTA2)', 'Slc32a1-T2A-FlpO', 'Slc6a3-IRES-Cre_Bkmn', 'Ai230(TIT2L-XCaMPG-ICL-ChRmine-oScarlet-IRES2-tTA2)-hyg', 'VGAT-ChR2-YFP', 'ePet-Cre'}\n"
     ]
    }
   ],
   "source": [
    "print(alleles)"
   ]
  },
  {
   "cell_type": "code",
   "execution_count": 6,
   "id": "328009e0",
   "metadata": {},
   "outputs": [],
   "source": [
    "experimenters = get_unique_experimenters(generate_doc_store_client())"
   ]
  },
  {
   "cell_type": "code",
   "execution_count": 7,
   "id": "12a296a8",
   "metadata": {},
   "outputs": [
    {
     "name": "stdout",
     "output_type": "stream",
     "text": [
      "{30084, 'NSB-2130', 'John Rohde', 30086, 26888, 'NSB-5125', 'Erica Peterson', 'experimenter', 'NSB-6171', 30361, 30241, 'NSB-5313', 'LAS', 20134, 30251, 30511, 'NSB-5011', 30770, 'Yoni Browning', 14394, 'Galen Lynch', 'ISpim Group', 22601, 26955, 30284, 'Anna Lakunina', 12388, 'NSB-5018', 12912, 13040, 'Nadezhda Dotson', 30333, 30206, 'NSB-187'}\n"
     ]
    }
   ],
   "source": [
    "print(experimenters)"
   ]
  },
  {
   "cell_type": "code",
   "execution_count": 8,
   "id": "2bc68678",
   "metadata": {},
   "outputs": [],
   "source": [
    "with open('../results/experimenters.csv', 'w', newline='') as myfile:\n",
    "    wr = csv.writer(myfile, quoting=csv.QUOTE_ALL, delimiter='\\n')\n",
    "    wr.writerow(experimenters)"
   ]
  }
 ],
 "metadata": {
  "kernelspec": {
   "display_name": "Python 3",
   "language": "python",
   "name": "python3"
  },
  "language_info": {
   "codemirror_mode": {
    "name": "ipython",
    "version": 3
   },
   "file_extension": ".py",
   "mimetype": "text/x-python",
   "name": "python",
   "nbconvert_exporter": "python",
   "pygments_lexer": "ipython3",
   "version": "3.8.5"
  }
 },
 "nbformat": 4,
 "nbformat_minor": 5
}
